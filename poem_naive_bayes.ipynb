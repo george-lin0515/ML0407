{
 "cells": [
  {
   "cell_type": "code",
   "execution_count": 1,
   "metadata": {},
   "outputs": [
    {
     "data": {
      "text/html": [
       "<div>\n",
       "<style scoped>\n",
       "    .dataframe tbody tr th:only-of-type {\n",
       "        vertical-align: middle;\n",
       "    }\n",
       "\n",
       "    .dataframe tbody tr th {\n",
       "        vertical-align: top;\n",
       "    }\n",
       "\n",
       "    .dataframe thead th {\n",
       "        text-align: right;\n",
       "    }\n",
       "</style>\n",
       "<table border=\"1\" class=\"dataframe\">\n",
       "  <thead>\n",
       "    <tr style=\"text-align: right;\">\n",
       "      <th></th>\n",
       "      <th>作者</th>\n",
       "      <th>詩名</th>\n",
       "      <th>內容</th>\n",
       "    </tr>\n",
       "  </thead>\n",
       "  <tbody>\n",
       "    <tr>\n",
       "      <th>0</th>\n",
       "      <td>李白</td>\n",
       "      <td>菩薩蠻·平林漠漠煙如織</td>\n",
       "      <td>平林漠漠煙如織，寒山一帶傷心碧。\\r\\n暝色入高樓，有人樓上愁。玉階空佇立，宿鳥歸飛急。\\r...</td>\n",
       "    </tr>\n",
       "    <tr>\n",
       "      <th>1</th>\n",
       "      <td>李白</td>\n",
       "      <td>把酒問月</td>\n",
       "      <td>青天有月來幾時，我今停杯一問之：人攀明月不可得，月行卻與人相隨？皎如飛鏡臨丹闕，綠煙滅儘清輝...</td>\n",
       "    </tr>\n",
       "    <tr>\n",
       "      <th>2</th>\n",
       "      <td>李白</td>\n",
       "      <td>春思</td>\n",
       "      <td>燕草如碧絲，秦桑低綠枝。當君懷歸日，是妾斷腸時。春風不相識，何事入羅幃。</td>\n",
       "    </tr>\n",
       "    <tr>\n",
       "      <th>3</th>\n",
       "      <td>李白</td>\n",
       "      <td>春夜洛城聞笛</td>\n",
       "      <td>誰家玉笛暗飛聲，散入春風滿洛城。此夜曲中聞折柳，何人不起故園情。</td>\n",
       "    </tr>\n",
       "    <tr>\n",
       "      <th>4</th>\n",
       "      <td>李白</td>\n",
       "      <td>古風 其十九</td>\n",
       "      <td>西上蓮花山，迢迢見明星。(西上 一作：西嶽)素手把芙蓉，虛步躡太清。霓裳曳廣帶，飄拂升天行。...</td>\n",
       "    </tr>\n",
       "    <tr>\n",
       "      <th>...</th>\n",
       "      <td>...</td>\n",
       "      <td>...</td>\n",
       "      <td>...</td>\n",
       "    </tr>\n",
       "    <tr>\n",
       "      <th>2726</th>\n",
       "      <td>白居易</td>\n",
       "      <td>彆元九後詠所懷</td>\n",
       "      <td>零落桐葉雨，蕭條槿花風。悠悠早秋意，生此幽閒中。況與故人彆，中懷正無悰。勿雲不相送，心到青門...</td>\n",
       "    </tr>\n",
       "    <tr>\n",
       "      <th>2727</th>\n",
       "      <td>白居易</td>\n",
       "      <td>早秋曲江感懷</td>\n",
       "      <td>離離暑雲散，嫋嫋涼風起。池上秋又來，荷花半成子。朱顏易銷歇，白日無窮已。人壽不如山，年光急於...</td>\n",
       "    </tr>\n",
       "    <tr>\n",
       "      <th>2728</th>\n",
       "      <td>白居易</td>\n",
       "      <td>東墟晚歇　時退居渭村。</td>\n",
       "      <td>涼風冷露蕭索天，黃蒿紫菊荒涼田。繞塚秋花少顏色，細蟲小蝶飛翻翻。中有騰騰獨行者，手拄漁竿不騎...</td>\n",
       "    </tr>\n",
       "    <tr>\n",
       "      <th>2729</th>\n",
       "      <td>白居易</td>\n",
       "      <td>南秦雪</td>\n",
       "      <td>往歲曾為西邑吏，慣從駱口到南秦。\\r\\n三時雲冷多飛雪，二月山寒少有春。\\r\\n我思舊事猶惆...</td>\n",
       "    </tr>\n",
       "    <tr>\n",
       "      <th>2730</th>\n",
       "      <td>白居易</td>\n",
       "      <td>寄蘄州簟與元九因題六韻　時元九鰥居。</td>\n",
       "      <td>笛竹出蘄春，霜刀劈翠筠。織成雙鎖簟，寄與獨眠人。卷作筒中信，舒為席上珍。滑如鋪薤葉，冷似臥龍...</td>\n",
       "    </tr>\n",
       "  </tbody>\n",
       "</table>\n",
       "<p>2731 rows × 3 columns</p>\n",
       "</div>"
      ],
      "text/plain": [
       "       作者                  詩名  \\\n",
       "0      李白         菩薩蠻·平林漠漠煙如織   \n",
       "1      李白                把酒問月   \n",
       "2      李白                  春思   \n",
       "3      李白              春夜洛城聞笛   \n",
       "4      李白              古風 其十九   \n",
       "...   ...                 ...   \n",
       "2726  白居易             彆元九後詠所懷   \n",
       "2727  白居易              早秋曲江感懷   \n",
       "2728  白居易         東墟晚歇　時退居渭村。   \n",
       "2729  白居易                 南秦雪   \n",
       "2730  白居易  寄蘄州簟與元九因題六韻　時元九鰥居。   \n",
       "\n",
       "                                                     內容  \n",
       "0     平林漠漠煙如織，寒山一帶傷心碧。\\r\\n暝色入高樓，有人樓上愁。玉階空佇立，宿鳥歸飛急。\\r...  \n",
       "1     青天有月來幾時，我今停杯一問之：人攀明月不可得，月行卻與人相隨？皎如飛鏡臨丹闕，綠煙滅儘清輝...  \n",
       "2                  燕草如碧絲，秦桑低綠枝。當君懷歸日，是妾斷腸時。春風不相識，何事入羅幃。  \n",
       "3                      誰家玉笛暗飛聲，散入春風滿洛城。此夜曲中聞折柳，何人不起故園情。  \n",
       "4     西上蓮花山，迢迢見明星。(西上 一作：西嶽)素手把芙蓉，虛步躡太清。霓裳曳廣帶，飄拂升天行。...  \n",
       "...                                                 ...  \n",
       "2726  零落桐葉雨，蕭條槿花風。悠悠早秋意，生此幽閒中。況與故人彆，中懷正無悰。勿雲不相送，心到青門...  \n",
       "2727  離離暑雲散，嫋嫋涼風起。池上秋又來，荷花半成子。朱顏易銷歇，白日無窮已。人壽不如山，年光急於...  \n",
       "2728  涼風冷露蕭索天，黃蒿紫菊荒涼田。繞塚秋花少顏色，細蟲小蝶飛翻翻。中有騰騰獨行者，手拄漁竿不騎...  \n",
       "2729  往歲曾為西邑吏，慣從駱口到南秦。\\r\\n三時雲冷多飛雪，二月山寒少有春。\\r\\n我思舊事猶惆...  \n",
       "2730  笛竹出蘄春，霜刀劈翠筠。織成雙鎖簟，寄與獨眠人。卷作筒中信，舒為席上珍。滑如鋪薤葉，冷似臥龍...  \n",
       "\n",
       "[2731 rows x 3 columns]"
      ]
     },
     "execution_count": 1,
     "metadata": {},
     "output_type": "execute_result"
    }
   ],
   "source": [
    "import pandas as pd\n",
    "train_df = pd.read_csv('poem_train.csv', encoding='utf-8')\n",
    "test_df = pd.read_csv('poem_test.csv', encoding='utf-8')\n",
    "train_df"
   ]
  },
  {
   "cell_type": "code",
   "execution_count": 2,
   "metadata": {},
   "outputs": [
    {
     "data": {
      "text/plain": [
       "{0: '李白', 1: '杜甫', 2: '白居易'}"
      ]
     },
     "execution_count": 2,
     "metadata": {},
     "output_type": "execute_result"
    }
   ],
   "source": [
    "# 傳進去必須是數字，答案：0,1,2\n",
    "trans = {\n",
    "    '李白':0,\n",
    "    '杜甫':1,\n",
    "    '白居易':2    \n",
    "}\n",
    "reverse_trans = {v:k for k, v in trans.items()}\n",
    "reverse_trans"
   ]
  },
  {
   "cell_type": "code",
   "execution_count": 3,
   "metadata": {},
   "outputs": [],
   "source": [
    "y_train = train_df['作者'].replace(trans)\n",
    "y_test = test_df['作者'].replace(trans)"
   ]
  },
  {
   "cell_type": "code",
   "execution_count": 4,
   "metadata": {},
   "outputs": [
    {
     "data": {
      "text/plain": [
       "0       0\n",
       "1       0\n",
       "2       0\n",
       "3       0\n",
       "4       0\n",
       "       ..\n",
       "2726    2\n",
       "2727    2\n",
       "2728    2\n",
       "2729    2\n",
       "2730    2\n",
       "Name: 作者, Length: 2731, dtype: int64"
      ]
     },
     "execution_count": 4,
     "metadata": {},
     "output_type": "execute_result"
    }
   ],
   "source": [
    "train_df['作者'].replace(trans)"
   ]
  },
  {
   "cell_type": "code",
   "execution_count": 5,
   "metadata": {},
   "outputs": [
    {
     "name": "stderr",
     "output_type": "stream",
     "text": [
      "Building prefix dict from the default dictionary ...\n",
      "Loading model from cache C:\\Users\\user\\AppData\\Local\\Temp\\jieba.cache\n",
      "Loading model cost 0.661 seconds.\n",
      "Prefix dict has been built successfully.\n"
     ]
    },
    {
     "data": {
      "text/plain": [
       "'平林 漠漠 煙如織 ， 寒山 一帶 傷心 碧 。  暝 色入 高樓 ， 有人 樓上 愁 。'"
      ]
     },
     "execution_count": 5,
     "metadata": {},
     "output_type": "execute_result"
    }
   ],
   "source": [
    "# 標點符號, \\r\\n換行 - 需處理 if 函式庫沒處理\n",
    "import jieba\n",
    "s = '平林漠漠煙如織，寒山一帶傷心碧。\\r\\n暝色入高樓，有人樓上愁。'\n",
    "s = ' '.join(jieba.cut(s))\n",
    "s = s.replace('\\r', '').replace('\\n', '')\n",
    "s\n"
   ]
  },
  {
   "cell_type": "code",
   "execution_count": 6,
   "metadata": {},
   "outputs": [],
   "source": [
    "# apply def \n",
    "def poemcut(s):\n",
    "    s = \" \".join(jieba.cut(s))\n",
    "    s = s.replace(\"\\r\", \"\").replace(\"\\n\", \"\")\n",
    "    return s\n",
    "train = train_df[\"內容\"].apply(poemcut)\n",
    "test = test_df[\"內容\"].apply(poemcut)"
   ]
  },
  {
   "cell_type": "code",
   "execution_count": 11,
   "metadata": {},
   "outputs": [
    {
     "data": {
      "text/plain": [
       "<2731x52294 sparse matrix of type '<class 'numpy.int64'>'\n",
       "\twith 85677 stored elements in Compressed Sparse Row format>"
      ]
     },
     "execution_count": 11,
     "metadata": {},
     "output_type": "execute_result"
    }
   ],
   "source": [
    "from sklearn.feature_extraction.text import CountVectorizer\n",
    "vec = CountVectorizer() # 建立詞向量\n",
    "x_train = vec.fit_transform(train) # 統計1.欄位 2.出現次數\n",
    "x_test = vec.transform(test) # 注意test 不加fit 欄位不須改變as新欄位直接忽略"
   ]
  },
  {
   "cell_type": "code",
   "execution_count": 9,
   "metadata": {},
   "outputs": [
    {
     "data": {
      "text/plain": [
       "'受塵'"
      ]
     },
     "execution_count": 9,
     "metadata": {},
     "output_type": "execute_result"
    }
   ],
   "source": [
    "# 稍微注意, 稍微查一下標點符號有沒有幫你去掉\n",
    "# vec.vocabulary_[\" \"]\n",
    "reverse_voca = {v:k for k, v in vec.vocabulary_.items()}\n",
    "reverse_voca[8048]"
   ]
  },
  {
   "cell_type": "code",
   "execution_count": 10,
   "metadata": {
    "scrolled": true
   },
   "outputs": [
    {
     "name": "stdout",
     "output_type": "stream",
     "text": [
      "  (0, 16053)\t1\n",
      "  (0, 29006)\t1\n",
      "  (0, 30177)\t1\n",
      "  (0, 14002)\t1\n",
      "  (0, 139)\t1\n",
      "  (0, 4756)\t1\n",
      "  (0, 39345)\t1\n",
      "  (0, 51400)\t1\n",
      "  (0, 23289)\t1\n",
      "  (0, 25180)\t1\n",
      "  (0, 31382)\t1\n",
      "  (0, 3549)\t1\n",
      "  (0, 13846)\t1\n",
      "  (0, 50568)\t1\n",
      "  (0, 3797)\t1\n",
      "  (0, 26005)\t1\n",
      "  (0, 44987)\t2\n",
      "  (0, 34)\t1\n",
      "  (0, 33975)\t1\n",
      "  (1, 49338)\t1\n",
      "  (1, 16293)\t1\n",
      "  (1, 19165)\t1\n",
      "  (1, 4540)\t1\n",
      "  (1, 85)\t1\n",
      "  (1, 2776)\t1\n",
      "  :\t:\n",
      "  (2729, 8800)\t1\n",
      "  (2729, 6485)\t1\n",
      "  (2729, 3060)\t1\n",
      "  (2730, 25782)\t1\n",
      "  (2730, 6026)\t1\n",
      "  (2730, 36958)\t1\n",
      "  (2730, 15905)\t1\n",
      "  (2730, 44854)\t1\n",
      "  (2730, 29458)\t1\n",
      "  (2730, 2175)\t1\n",
      "  (2730, 31125)\t1\n",
      "  (2730, 40974)\t1\n",
      "  (2730, 35446)\t1\n",
      "  (2730, 49196)\t1\n",
      "  (2730, 6770)\t1\n",
      "  (2730, 48596)\t1\n",
      "  (2730, 7813)\t1\n",
      "  (2730, 1714)\t1\n",
      "  (2730, 39190)\t1\n",
      "  (2730, 28820)\t1\n",
      "  (2730, 38489)\t1\n",
      "  (2730, 28423)\t1\n",
      "  (2730, 51689)\t1\n",
      "  (2730, 8048)\t1\n",
      "  (2730, 23226)\t1\n"
     ]
    }
   ],
   "source": [
    "print(x_train)"
   ]
  },
  {
   "cell_type": "code",
   "execution_count": 12,
   "metadata": {},
   "outputs": [
    {
     "data": {
      "text/plain": [
       "MultinomialNB(alpha=1.0, class_prior=None, fit_prior=True)"
      ]
     },
     "execution_count": 12,
     "metadata": {},
     "output_type": "execute_result"
    }
   ],
   "source": [
    "from sklearn.naive_bayes import MultinomialNB\n",
    "clf = MultinomialNB()\n",
    "clf.fit(x_train, y_train)"
   ]
  },
  {
   "cell_type": "code",
   "execution_count": 14,
   "metadata": {},
   "outputs": [
    {
     "data": {
      "text/plain": [
       "0.8"
      ]
     },
     "execution_count": 14,
     "metadata": {},
     "output_type": "execute_result"
    }
   ],
   "source": [
    "from sklearn.metrics import accuracy_score\n",
    "pre = clf.predict(x_test)\n",
    "accuracy_score(pre, y_test)"
   ]
  },
  {
   "cell_type": "code",
   "execution_count": 16,
   "metadata": {},
   "outputs": [
    {
     "data": {
      "text/html": [
       "<div>\n",
       "<style scoped>\n",
       "    .dataframe tbody tr th:only-of-type {\n",
       "        vertical-align: middle;\n",
       "    }\n",
       "\n",
       "    .dataframe tbody tr th {\n",
       "        vertical-align: top;\n",
       "    }\n",
       "\n",
       "    .dataframe thead th {\n",
       "        text-align: right;\n",
       "    }\n",
       "</style>\n",
       "<table border=\"1\" class=\"dataframe\">\n",
       "  <thead>\n",
       "    <tr style=\"text-align: right;\">\n",
       "      <th></th>\n",
       "      <th>李白(預測)</th>\n",
       "      <th>杜甫(預測)</th>\n",
       "      <th>白居易(預測)</th>\n",
       "    </tr>\n",
       "  </thead>\n",
       "  <tbody>\n",
       "    <tr>\n",
       "      <th>李白(正確)</th>\n",
       "      <td>8</td>\n",
       "      <td>1</td>\n",
       "      <td>1</td>\n",
       "    </tr>\n",
       "    <tr>\n",
       "      <th>杜甫(正確)</th>\n",
       "      <td>1</td>\n",
       "      <td>8</td>\n",
       "      <td>1</td>\n",
       "    </tr>\n",
       "    <tr>\n",
       "      <th>白居易(正確)</th>\n",
       "      <td>1</td>\n",
       "      <td>1</td>\n",
       "      <td>8</td>\n",
       "    </tr>\n",
       "  </tbody>\n",
       "</table>\n",
       "</div>"
      ],
      "text/plain": [
       "         李白(預測)  杜甫(預測)  白居易(預測)\n",
       "李白(正確)        8       1        1\n",
       "杜甫(正確)        1       8        1\n",
       "白居易(正確)       1       1        8"
      ]
     },
     "execution_count": 16,
     "metadata": {},
     "output_type": "execute_result"
    }
   ],
   "source": [
    "from sklearn.metrics import confusion_matrix\n",
    "mat = confusion_matrix(y_test, pre)\n",
    "ori = [\"李白\", \"杜甫\", \"白居易\"]\n",
    "c = [\"{}(預測)\".format(s) for s in ori]\n",
    "i = [\"{}(正確)\".format(s) for s in ori]\n",
    "pd.DataFrame(mat,\n",
    "             columns=c,\n",
    "             index=i)"
   ]
  },
  {
   "cell_type": "code",
   "execution_count": 17,
   "metadata": {},
   "outputs": [
    {
     "name": "stdout",
     "output_type": "stream",
     "text": [
      "輸入一首詩:然後呢 他們說你的心 似乎痊癒了 也開始有個人 為你守護著 我該心安或是 心痛呢？  然後呢 其實我的日子 也還可以呢 除了回憶肆虐 的某些時刻 慶幸還有眼淚 衝淡苦澀  而那些昨日 依然繽紛著 它們都有我 細心收藏著 也許你還記得 也許你都忘了 也不是那麼 重要了  只期待 後來的你 能快樂 那就是 後來的我 最想的 後來的我們 依然走著 只是不再並肩了 朝各自的人生 追尋了  親愛的 回憶我們共同 走過的曲折 是那些帶我們 來到了這一刻 讓珍貴的人生 有失有得\n",
      "應該是誰: 白居易\n"
     ]
    }
   ],
   "source": [
    "s = input(\"輸入一首詩:\")\n",
    "s = vec.transform([poemcut(s)])\n",
    "pre = clf.predict(s)[0]\n",
    "ans = reverse_trans[pre]\n",
    "print(\"應該是誰:\", ans)"
   ]
  },
  {
   "cell_type": "code",
   "execution_count": null,
   "metadata": {},
   "outputs": [],
   "source": []
  }
 ],
 "metadata": {
  "kernelspec": {
   "display_name": "Python 3",
   "language": "python",
   "name": "python3"
  },
  "language_info": {
   "codemirror_mode": {
    "name": "ipython",
    "version": 3
   },
   "file_extension": ".py",
   "mimetype": "text/x-python",
   "name": "python",
   "nbconvert_exporter": "python",
   "pygments_lexer": "ipython3",
   "version": "3.7.3"
  }
 },
 "nbformat": 4,
 "nbformat_minor": 4
}
