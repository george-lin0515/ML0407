{
 "cells": [
  {
   "cell_type": "code",
   "execution_count": 1,
   "metadata": {},
   "outputs": [],
   "source": [
    "with open('test.txt', 'r', encoding='utf-8') as f:\n",
    "    article = f.read()"
   ]
  },
  {
   "cell_type": "code",
   "execution_count": 2,
   "metadata": {},
   "outputs": [
    {
     "data": {
      "text/plain": [
       "'為什麼會覺得煩呢？也許讓我們學寫繁體中文的百話，我們可能會煩。\\n主要看所處的環境。度\\n如果樓主從一出生就學的是繁體中文內的話，現在讓你學寫簡體中文，你也會煩的。如果一個英語為母語的國家，讓他們的人民學中文，不管是繁體還是簡體都會煩。\\n要你用你的純母語來書寫，應該是最順手容的吧'"
      ]
     },
     "execution_count": 2,
     "metadata": {},
     "output_type": "execute_result"
    }
   ],
   "source": [
    "# opencc-python-reimplemented, 開放中文轉換, https://pypi.org/project/opencc-python-reimplemented/\n",
    "\n",
    "from opencc import OpenCC\n",
    "cc = OpenCC('s2tw')  # Simplified Chinese to Traditional Chinese (Taiwan standard)\n",
    "# can also set conversion by calling set_conversion\n",
    "# cc.set_conversion('s2tw')\n",
    "\n",
    "converted = cc.convert(article)\n",
    "converted"
   ]
  },
  {
   "cell_type": "code",
   "execution_count": 9,
   "metadata": {},
   "outputs": [
    {
     "name": "stderr",
     "output_type": "stream",
     "text": [
      "Building prefix dict from C:\\Users\\user\\PycharmProjects\\MLDemo\\dict.txt.big ...\n",
      "Loading model from cache C:\\Users\\user\\AppData\\Local\\Temp\\jieba.u8b0aede1d05d994ba4294f10e50c49e7.cache\n",
      "Loading model cost 1.166 seconds.\n",
      "Prefix dict has been built successfully.\n"
     ]
    },
    {
     "data": {
      "text/plain": [
       "'台灣 援贈 新加坡 口罩 ， 新加坡 總理 李顯龍 夫人 何晶 臉書 轉發 相關 報導 ， 還 發文 「 Errrr ... （ 呃 ... ） 」 一度 引起 熱議 ， 但 她 已 修改 這段 謎樣 文字 ， 對 來自 台灣 的 協助 表示感謝 。 \\n \\n 外交部 日前 宣布 啟動 第二 波 援助 需要 口罩 的 國家 ， 對象 包含 新 南向 政策 國家 ， 新加坡 也 在 名單 內 ， 但 李顯龍 的 夫人 何晶 11 日 在 臉書 轉發 相關 報導 ， 還 發文 「 Errrr ... （ 呃 ... ） 」 引起 熱議 。 \\n \\n 不少 網友 對 何晶 以 Errrr .... 表達 看法 感到 好奇 ， 不 了解 究竟 意涵 為何 。 這個 貼文 也 引發 不同 立場 網友 在 她 的 臉書 中 筆戰 。'"
      ]
     },
     "execution_count": 9,
     "metadata": {},
     "output_type": "execute_result"
    }
   ],
   "source": [
    "# 功能1 cut 分詞/ 影響關鍵 1. 辭典大小 載入大辭典 dict.txt 2. 自訂辭典\n",
    "import os\n",
    "import jieba\n",
    "from urllib.request import urlretrieve #下載大辭典\n",
    "if not os.path.exists('dict.txt.big'):\n",
    "    print('1st 下載大辭典')\n",
    "    url = 'https://github.com/fxsjy/jieba/raw/master/extra_dict/dict.txt.big'\n",
    "    urlretrieve(url, 'dict.txt.big')\n",
    "with open('news.txt', encoding='utf-8') as f:\n",
    "    news = f.read()\n",
    "    \n",
    "jieba.set_dictionary('dict.txt.big') #載入大辭典\n",
    "jieba.load_userdict('politics.txt') # 載入自製辭典\n",
    "' '.join(jieba.cut(news))"
   ]
  },
  {
   "cell_type": "code",
   "execution_count": 10,
   "metadata": {},
   "outputs": [
    {
     "data": {
      "text/plain": [
       "['...',\n",
       " '何晶',\n",
       " '臉書',\n",
       " 'Errrr',\n",
       " '台灣',\n",
       " '李顯龍',\n",
       " '轉發',\n",
       " '相關',\n",
       " '報導',\n",
       " '發文',\n",
       " '熱議',\n",
       " '國家',\n",
       " '網友',\n",
       " '新加坡',\n",
       " '口罩',\n",
       " '夫人',\n",
       " '援贈',\n",
       " '總理',\n",
       " '這段',\n",
       " '謎樣']"
      ]
     },
     "execution_count": 10,
     "metadata": {},
     "output_type": "execute_result"
    }
   ],
   "source": [
    "# 功能2 抓關鍵字 tf-idf/ 參考 idf.txt\n",
    "from jieba.analyse import extract_tags\n",
    "extract_tags(news) # 抓出關鍵字"
   ]
  },
  {
   "cell_type": "code",
   "execution_count": null,
   "metadata": {},
   "outputs": [],
   "source": []
  }
 ],
 "metadata": {
  "kernelspec": {
   "display_name": "Python 3",
   "language": "python",
   "name": "python3"
  },
  "language_info": {
   "codemirror_mode": {
    "name": "ipython",
    "version": 3
   },
   "file_extension": ".py",
   "mimetype": "text/x-python",
   "name": "python",
   "nbconvert_exporter": "python",
   "pygments_lexer": "ipython3",
   "version": "3.7.3"
  }
 },
 "nbformat": 4,
 "nbformat_minor": 4
}
