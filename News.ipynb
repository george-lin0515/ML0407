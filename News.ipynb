{
 "cells": [
  {
   "cell_type": "code",
   "execution_count": 1,
   "metadata": {},
   "outputs": [],
   "source": [
    "# make df by def\n",
    "import glob\n",
    "import os\n",
    "import pandas as pd\n",
    "def get_data(dn):\n",
    "    data = {\n",
    "        \"news\":[],\n",
    "        \"ans\":[]\n",
    "    }\n",
    "    dirs = glob.glob(os.path.join(dn, \"*\"))# /chinese_news_trans\\\\交通..etc *輸出所有資料夾/ glob return list 重要處理大量資料用\n",
    "    for d in dirs:\n",
    "        pat = os.path.join(d, \"*.txt\") #/chinese_news_trans\\交通..etc\\*.txt/ *path組合: d+*.txt\n",
    "        fs = glob.glob(pat)# a list with all txt's path\n",
    "        for fp in fs:\n",
    "            with open(fp, \"r\", encoding=\"utf-8\") as f:\n",
    "                news = f.read()\n",
    "            ans = os.path.split(d)[-1]# get title *交通　體育..\n",
    "            data[\"news\"].append(news)\n",
    "            data[\"ans\"].append(ans)\n",
    "    df = pd.DataFrame(data, columns=[\"news\", \"ans\"])\n",
    "    return df"
   ]
  },
  {
   "cell_type": "code",
   "execution_count": 2,
   "metadata": {
    "scrolled": false
   },
   "outputs": [
    {
     "data": {
      "text/html": [
       "<div>\n",
       "<style scoped>\n",
       "    .dataframe tbody tr th:only-of-type {\n",
       "        vertical-align: middle;\n",
       "    }\n",
       "\n",
       "    .dataframe tbody tr th {\n",
       "        vertical-align: top;\n",
       "    }\n",
       "\n",
       "    .dataframe thead th {\n",
       "        text-align: right;\n",
       "    }\n",
       "</style>\n",
       "<table border=\"1\" class=\"dataframe\">\n",
       "  <thead>\n",
       "    <tr style=\"text-align: right;\">\n",
       "      <th></th>\n",
       "      <th>news</th>\n",
       "      <th>ans</th>\n",
       "    </tr>\n",
       "  </thead>\n",
       "  <tbody>\n",
       "    <tr>\n",
       "      <th>0</th>\n",
       "      <td>日月光華 -- Traffic_Info精華區文章閱讀\\n-----------------...</td>\n",
       "      <td>交通</td>\n",
       "    </tr>\n",
       "    <tr>\n",
       "      <th>1</th>\n",
       "      <td>日月光華 -- Traffic_Info精華區文章閱讀\\n-----------------...</td>\n",
       "      <td>交通</td>\n",
       "    </tr>\n",
       "    <tr>\n",
       "      <th>2</th>\n",
       "      <td>日月光華 -- Traffic_Info精華區文章閱讀\\n-----------------...</td>\n",
       "      <td>交通</td>\n",
       "    </tr>\n",
       "    <tr>\n",
       "      <th>3</th>\n",
       "      <td>三趟火車停開 乘客可全額退票 \\n瀏覽次數：1180 \\n    昨日，來自鐵路部門的消息說...</td>\n",
       "      <td>交通</td>\n",
       "    </tr>\n",
       "    <tr>\n",
       "      <th>4</th>\n",
       "      <td>日月光華 -- Traffic_Info精華區文章閱讀\\n-----------------...</td>\n",
       "      <td>交通</td>\n",
       "    </tr>\n",
       "    <tr>\n",
       "      <th>...</th>\n",
       "      <td>...</td>\n",
       "      <td>...</td>\n",
       "    </tr>\n",
       "    <tr>\n",
       "      <th>96</th>\n",
       "      <td>最優秀選手無緣亞運會健美賽\\n \\n　 \\n    健美在亞洲運動會上是“新生兒”——韓國釜...</td>\n",
       "      <td>體育</td>\n",
       "    </tr>\n",
       "    <tr>\n",
       "      <th>97</th>\n",
       "      <td>\\n各國記者眼中的羽毛球世錦賽\\n \\n\\n-----------------------...</td>\n",
       "      <td>體育</td>\n",
       "    </tr>\n",
       "    <tr>\n",
       "      <th>98</th>\n",
       "      <td>\\n友好運動會第五天 東道主選手大顯神威\\n2001年09月03日02:51:40 新華社 ...</td>\n",
       "      <td>體育</td>\n",
       "    </tr>\n",
       "    <tr>\n",
       "      <th>99</th>\n",
       "      <td>不靠技術比運氣\\n\\n　　第二屆奧運會在巴黎舉行，同時這裡也正在舉行國際博覽會，東道主把一些...</td>\n",
       "      <td>體育</td>\n",
       "    </tr>\n",
       "    <tr>\n",
       "      <th>100</th>\n",
       "      <td>帆 板 運 動 簡 介（二）\\n\\n　　我國在79年由國家體委青島航海運動學校成功試製出第一...</td>\n",
       "      <td>體育</td>\n",
       "    </tr>\n",
       "  </tbody>\n",
       "</table>\n",
       "<p>101 rows × 2 columns</p>\n",
       "</div>"
      ],
      "text/plain": [
       "                                                  news ans\n",
       "0    日月光華 -- Traffic_Info精華區文章閱讀\\n-----------------...  交通\n",
       "1    日月光華 -- Traffic_Info精華區文章閱讀\\n-----------------...  交通\n",
       "2    日月光華 -- Traffic_Info精華區文章閱讀\\n-----------------...  交通\n",
       "3    三趟火車停開 乘客可全額退票 \\n瀏覽次數：1180 \\n    昨日，來自鐵路部門的消息說...  交通\n",
       "4    日月光華 -- Traffic_Info精華區文章閱讀\\n-----------------...  交通\n",
       "..                                                 ...  ..\n",
       "96   最優秀選手無緣亞運會健美賽\\n \\n　 \\n    健美在亞洲運動會上是“新生兒”——韓國釜...  體育\n",
       "97    \\n各國記者眼中的羽毛球世錦賽\\n \\n\\n-----------------------...  體育\n",
       "98   \\n友好運動會第五天 東道主選手大顯神威\\n2001年09月03日02:51:40 新華社 ...  體育\n",
       "99   不靠技術比運氣\\n\\n　　第二屆奧運會在巴黎舉行，同時這裡也正在舉行國際博覽會，東道主把一些...  體育\n",
       "100  帆 板 運 動 簡 介（二）\\n\\n　　我國在79年由國家體委青島航海運動學校成功試製出第一...  體育\n",
       "\n",
       "[101 rows x 2 columns]"
      ]
     },
     "execution_count": 2,
     "metadata": {},
     "output_type": "execute_result"
    }
   ],
   "source": [
    "# make df with fit\n",
    "train_df = get_data(\"chinese_news_trans/chinese_news_trans\")\n",
    "test_df = get_data(\"chinese_news_test/chinese_news_test\")\n",
    "test_df"
   ]
  },
  {
   "cell_type": "code",
   "execution_count": 3,
   "metadata": {},
   "outputs": [
    {
     "data": {
      "text/plain": [
       "0      0\n",
       "1      0\n",
       "2      0\n",
       "3      0\n",
       "4      0\n",
       "      ..\n",
       "96     9\n",
       "97     9\n",
       "98     9\n",
       "99     9\n",
       "100    9\n",
       "Name: ans, Length: 101, dtype: int64"
      ]
     },
     "execution_count": 3,
     "metadata": {},
     "output_type": "execute_result"
    }
   ],
   "source": [
    "# adj. df[ans]\n",
    "# ans replaced str with int 0,1,2.. for original df\n",
    "# df - unique, value_counts\n",
    "kind = train_df['ans'].unique() # 取ans不重複\n",
    "# enumerate - 自動加編號\n",
    "trans = {k:i for i, k in enumerate(kind)}\n",
    "reverse_trans = {i:k for i, k in enumerate(kind)}\n",
    "y_train = train_df[\"ans\"].replace(trans)\n",
    "y_test = test_df[\"ans\"].replace(trans)\n",
    "y_test\n"
   ]
  },
  {
   "cell_type": "code",
   "execution_count": 4,
   "metadata": {},
   "outputs": [
    {
     "name": "stdout",
     "output_type": "stream",
     "text": [
      "字典不存在\n"
     ]
    }
   ],
   "source": [
    "import os\n",
    "from urllib.request import urlretrieve\n",
    "DICT_PATH = \"dict.txt.big\"\n",
    "if not os.path.exists(DICT_PATH):\n",
    "    print(\"字典不存在\")\n",
    "    url = \"https://github.com/fxsjy/jieba/raw/master/extra_dict/dict.txt.big\"\n",
    "    urlretrieve(url, DICT_PATH)"
   ]
  },
  {
   "cell_type": "code",
   "execution_count": 5,
   "metadata": {},
   "outputs": [
    {
     "name": "stderr",
     "output_type": "stream",
     "text": [
      "Building prefix dict from C:\\Users\\user\\PycharmProjects\\MLDemo\\dict.txt.big ...\n",
      "Dumping model to file cache C:\\Users\\user\\AppData\\Local\\Temp\\jieba.u8b0aede1d05d994ba4294f10e50c49e7.cache\n",
      "Loading model cost 1.376 seconds.\n",
      "Prefix dict has been built successfully.\n"
     ]
    },
    {
     "data": {
      "text/plain": [
       "0      日月 光華   --   Traffic _ Info 精華區 文章 閱讀  -------...\n",
       "1      日月 光華   --   Traffic _ Info 精華區 文章 閱讀  -------...\n",
       "2      日月 光華   --   Traffic _ Info 精華區 文章 閱讀  -------...\n",
       "3      三趟 火車 停開   乘客 可 全額 退票    瀏覽 次數 ： 1180         ...\n",
       "4      日月 光華   --   Traffic _ Info 精華區 文章 閱讀  -------...\n",
       "                             ...                        \n",
       "96     最 優秀 選手 無緣 亞運會 健美 賽     　            健美 在 亞洲 運...\n",
       "97        各國 記者 眼中 的 羽毛球 世錦賽      -------------------...\n",
       "98      友好 運動會 第五天   東道主 選手 大顯神威  2001 年 09 月 03 日 02...\n",
       "99     不靠 技術 比 運氣   　 　 第二屆 奧運會 在 巴黎 舉行 ， 同時 這裡 也 正在 ...\n",
       "100    帆   板   運   動   簡   介 （ 二 ）   　 　 我國 在 79 年 由 ...\n",
       "Name: news, Length: 101, dtype: object"
      ]
     },
     "execution_count": 5,
     "metadata": {},
     "output_type": "execute_result"
    }
   ],
   "source": [
    "# adj. df['news']\n",
    "import jieba\n",
    "jieba.set_dictionary(DICT_PATH) # import大辭典\n",
    "def newscut(news): #創分詞函式\n",
    "    s = \" \".join(jieba.cut(news))\n",
    "    return s.replace(\"\\r\", \"\").replace(\"\\n\", \"\")\n",
    "x_train_raw = train_df[\"news\"].apply(newscut)#分詞新聞內容\n",
    "x_test_raw = test_df[\"news\"].apply(newscut)\n",
    "x_test_raw"
   ]
  },
  {
   "cell_type": "code",
   "execution_count": 6,
   "metadata": {},
   "outputs": [
    {
     "data": {
      "text/plain": [
       "<101x76399 sparse matrix of type '<class 'numpy.int64'>'\n",
       "\twith 27152 stored elements in Compressed Sparse Row format>"
      ]
     },
     "execution_count": 6,
     "metadata": {},
     "output_type": "execute_result"
    }
   ],
   "source": [
    "# make df2 at vec\n",
    "#創詞向量　餵訓練&測試題目\n",
    "from sklearn.feature_extraction.text import CountVectorizer\n",
    "vec = CountVectorizer()\n",
    "x_train = vec.fit_transform(x_train_raw)\n",
    "x_test = vec.transform(x_test_raw) #test without \"fit\"\n",
    "x_test"
   ]
  },
  {
   "cell_type": "code",
   "execution_count": 7,
   "metadata": {},
   "outputs": [
    {
     "data": {
      "text/plain": [
       "MultinomialNB(alpha=1.0, class_prior=None, fit_prior=True)"
      ]
     },
     "execution_count": 7,
     "metadata": {},
     "output_type": "execute_result"
    }
   ],
   "source": [
    "# set model + train model\n",
    "#創單純貝式模型＋訓練　\n",
    "from sklearn.naive_bayes import MultinomialNB\n",
    "clf = MultinomialNB()\n",
    "clf.fit(x_train, y_train)"
   ]
  },
  {
   "cell_type": "code",
   "execution_count": 10,
   "metadata": {},
   "outputs": [
    {
     "data": {
      "text/plain": [
       "1.0"
      ]
     },
     "execution_count": 10,
     "metadata": {},
     "output_type": "execute_result"
    }
   ],
   "source": [
    "# predict\n",
    "from sklearn.metrics import accuracy_score\n",
    "pre = clf.predict(x_test)\n",
    "accuracy_score(pre, y_test)"
   ]
  },
  {
   "cell_type": "code",
   "execution_count": 11,
   "metadata": {},
   "outputs": [
    {
     "data": {
      "text/html": [
       "<div>\n",
       "<style scoped>\n",
       "    .dataframe tbody tr th:only-of-type {\n",
       "        vertical-align: middle;\n",
       "    }\n",
       "\n",
       "    .dataframe tbody tr th {\n",
       "        vertical-align: top;\n",
       "    }\n",
       "\n",
       "    .dataframe thead th {\n",
       "        text-align: right;\n",
       "    }\n",
       "</style>\n",
       "<table border=\"1\" class=\"dataframe\">\n",
       "  <thead>\n",
       "    <tr style=\"text-align: right;\">\n",
       "      <th></th>\n",
       "      <th>交通(預測)</th>\n",
       "      <th>政治(預測)</th>\n",
       "      <th>教育(預測)</th>\n",
       "      <th>環境(預測)</th>\n",
       "      <th>經濟(預測)</th>\n",
       "      <th>藝術(預測)</th>\n",
       "      <th>計算機(預測)</th>\n",
       "      <th>軍事(預測)</th>\n",
       "      <th>醫藥(預測)</th>\n",
       "      <th>體育(預測)</th>\n",
       "    </tr>\n",
       "  </thead>\n",
       "  <tbody>\n",
       "    <tr>\n",
       "      <th>交通(答案)</th>\n",
       "      <td>10</td>\n",
       "      <td>0</td>\n",
       "      <td>0</td>\n",
       "      <td>0</td>\n",
       "      <td>0</td>\n",
       "      <td>0</td>\n",
       "      <td>0</td>\n",
       "      <td>0</td>\n",
       "      <td>0</td>\n",
       "      <td>0</td>\n",
       "    </tr>\n",
       "    <tr>\n",
       "      <th>政治(答案)</th>\n",
       "      <td>0</td>\n",
       "      <td>11</td>\n",
       "      <td>0</td>\n",
       "      <td>0</td>\n",
       "      <td>0</td>\n",
       "      <td>0</td>\n",
       "      <td>0</td>\n",
       "      <td>0</td>\n",
       "      <td>0</td>\n",
       "      <td>0</td>\n",
       "    </tr>\n",
       "    <tr>\n",
       "      <th>教育(答案)</th>\n",
       "      <td>0</td>\n",
       "      <td>0</td>\n",
       "      <td>10</td>\n",
       "      <td>0</td>\n",
       "      <td>0</td>\n",
       "      <td>0</td>\n",
       "      <td>0</td>\n",
       "      <td>0</td>\n",
       "      <td>0</td>\n",
       "      <td>0</td>\n",
       "    </tr>\n",
       "    <tr>\n",
       "      <th>環境(答案)</th>\n",
       "      <td>0</td>\n",
       "      <td>0</td>\n",
       "      <td>0</td>\n",
       "      <td>10</td>\n",
       "      <td>0</td>\n",
       "      <td>0</td>\n",
       "      <td>0</td>\n",
       "      <td>0</td>\n",
       "      <td>0</td>\n",
       "      <td>0</td>\n",
       "    </tr>\n",
       "    <tr>\n",
       "      <th>經濟(答案)</th>\n",
       "      <td>0</td>\n",
       "      <td>0</td>\n",
       "      <td>0</td>\n",
       "      <td>0</td>\n",
       "      <td>10</td>\n",
       "      <td>0</td>\n",
       "      <td>0</td>\n",
       "      <td>0</td>\n",
       "      <td>0</td>\n",
       "      <td>0</td>\n",
       "    </tr>\n",
       "    <tr>\n",
       "      <th>藝術(答案)</th>\n",
       "      <td>0</td>\n",
       "      <td>0</td>\n",
       "      <td>0</td>\n",
       "      <td>0</td>\n",
       "      <td>0</td>\n",
       "      <td>10</td>\n",
       "      <td>0</td>\n",
       "      <td>0</td>\n",
       "      <td>0</td>\n",
       "      <td>0</td>\n",
       "    </tr>\n",
       "    <tr>\n",
       "      <th>計算機(答案)</th>\n",
       "      <td>0</td>\n",
       "      <td>0</td>\n",
       "      <td>0</td>\n",
       "      <td>0</td>\n",
       "      <td>0</td>\n",
       "      <td>0</td>\n",
       "      <td>10</td>\n",
       "      <td>0</td>\n",
       "      <td>0</td>\n",
       "      <td>0</td>\n",
       "    </tr>\n",
       "    <tr>\n",
       "      <th>軍事(答案)</th>\n",
       "      <td>0</td>\n",
       "      <td>0</td>\n",
       "      <td>0</td>\n",
       "      <td>0</td>\n",
       "      <td>0</td>\n",
       "      <td>0</td>\n",
       "      <td>0</td>\n",
       "      <td>10</td>\n",
       "      <td>0</td>\n",
       "      <td>0</td>\n",
       "    </tr>\n",
       "    <tr>\n",
       "      <th>醫藥(答案)</th>\n",
       "      <td>0</td>\n",
       "      <td>0</td>\n",
       "      <td>0</td>\n",
       "      <td>0</td>\n",
       "      <td>0</td>\n",
       "      <td>0</td>\n",
       "      <td>0</td>\n",
       "      <td>0</td>\n",
       "      <td>10</td>\n",
       "      <td>0</td>\n",
       "    </tr>\n",
       "    <tr>\n",
       "      <th>體育(答案)</th>\n",
       "      <td>0</td>\n",
       "      <td>0</td>\n",
       "      <td>0</td>\n",
       "      <td>0</td>\n",
       "      <td>0</td>\n",
       "      <td>0</td>\n",
       "      <td>0</td>\n",
       "      <td>0</td>\n",
       "      <td>0</td>\n",
       "      <td>10</td>\n",
       "    </tr>\n",
       "  </tbody>\n",
       "</table>\n",
       "</div>"
      ],
      "text/plain": [
       "         交通(預測)  政治(預測)  教育(預測)  環境(預測)  經濟(預測)  藝術(預測)  計算機(預測)  軍事(預測)  \\\n",
       "交通(答案)       10       0       0       0       0       0        0       0   \n",
       "政治(答案)        0      11       0       0       0       0        0       0   \n",
       "教育(答案)        0       0      10       0       0       0        0       0   \n",
       "環境(答案)        0       0       0      10       0       0        0       0   \n",
       "經濟(答案)        0       0       0       0      10       0        0       0   \n",
       "藝術(答案)        0       0       0       0       0      10        0       0   \n",
       "計算機(答案)       0       0       0       0       0       0       10       0   \n",
       "軍事(答案)        0       0       0       0       0       0        0      10   \n",
       "醫藥(答案)        0       0       0       0       0       0        0       0   \n",
       "體育(答案)        0       0       0       0       0       0        0       0   \n",
       "\n",
       "         醫藥(預測)  體育(預測)  \n",
       "交通(答案)        0       0  \n",
       "政治(答案)        0       0  \n",
       "教育(答案)        0       0  \n",
       "環境(答案)        0       0  \n",
       "經濟(答案)        0       0  \n",
       "藝術(答案)        0       0  \n",
       "計算機(答案)       0       0  \n",
       "軍事(答案)        0       0  \n",
       "醫藥(答案)       10       0  \n",
       "體育(答案)        0      10  "
      ]
     },
     "execution_count": 11,
     "metadata": {},
     "output_type": "execute_result"
    }
   ],
   "source": [
    "from sklearn.metrics import confusion_matrix\n",
    "mat = confusion_matrix(y_test, pre)\n",
    "col = [\"{}(預測)\".format(k) for k in kind]\n",
    "row = [\"{}(答案)\".format(k) for k in kind]\n",
    "pd.DataFrame(mat, columns=col, index=row)"
   ]
  },
  {
   "cell_type": "code",
   "execution_count": 13,
   "metadata": {},
   "outputs": [
    {
     "name": "stdout",
     "output_type": "stream",
     "text": [
      "請輸入新聞:Sony Interactive Entertainment在官方公告中提到，有鑑人們為防止肺炎疫情擴散安分守己地待在家中，為了感謝大家保持社交距離，並盡量滿足大家「Play At Home」（在家遊玩）的需求，因此決定推出包含兩部分內容的「Play At Home」活動，第一是提供給所有PS4的玩家在限定期間內可免費下載《秘境探險：德瑞克合輯》與《風之旅人》2款遊戲，兌換後即可一直擁有。     《秘境探險：德瑞克合輯(UNCHARTED: The Nathan Drake Collection)》，是將原本由遊戲製作室Naughty Dog創作的冒險遊戲，由Bluepoint Games發揮PS4™主機的性能重製登場。合輯收錄了系列前 3 代《秘境探險：黃金城秘寶》、《秘境探險 2：盜亦有道》、《秘境探險 3：德瑞克的騙局》的遊戲，玩家將扮演奈森・德瑞克，從微不足道的事端開始，到難以想像的發現，踏上橫越地球的驚險旅程。而德瑞克亦會與令人難忘的各式人物相遇，以性命和友情作為賭注，與陰險殘酷的敵人競爭追蹤傳說中的寶藏。目前PS Store售價為NT$590元，並曾作為2020年1月「PlayStation Plus」會員免費下載遊戲。\n",
      "應該是: 計算機\n",
      "計算機 : 100.0 %\n",
      "藝術 : 0.0 %\n",
      "軍事 : 0.0 %\n",
      "體育 : 0.0 %\n",
      "經濟 : 0.0 %\n",
      "環境 : 0.0 %\n",
      "教育 : 0.0 %\n",
      "醫藥 : 0.0 %\n",
      "交通 : 0.0 %\n",
      "政治 : 0.0 %\n"
     ]
    }
   ],
   "source": [
    "# self-app created\n",
    "n = input(\"請輸入新聞:\")\n",
    "test = vec.transform([newscut(n)])\n",
    "pre = clf.predict(test)[0]\n",
    "print(\"應該是:\", reverse_trans[pre])\n",
    "proba = clf.predict_proba(test)[0]\n",
    "proba = list(enumerate(proba))\n",
    "# proba\n",
    "for i, prob in sorted(proba, key=lambda x:x[1], reverse=True):\n",
    "    print(reverse_trans[i], \":\", round(prob*100), \"%\")"
   ]
  },
  {
   "cell_type": "code",
   "execution_count": null,
   "metadata": {},
   "outputs": [],
   "source": [
    "list(zip([1, 2, 3],\n",
    "         [7, 8, 9],\n",
    "         [4, 5, 6]))"
   ]
  },
  {
   "cell_type": "code",
   "execution_count": null,
   "metadata": {},
   "outputs": [],
   "source": [
    "sorted([(3, \"a\"), (1, \"b\"), (5, \"c\")])"
   ]
  }
 ],
 "metadata": {
  "kernelspec": {
   "display_name": "Python 3",
   "language": "python",
   "name": "python3"
  },
  "language_info": {
   "codemirror_mode": {
    "name": "ipython",
    "version": 3
   },
   "file_extension": ".py",
   "mimetype": "text/x-python",
   "name": "python",
   "nbconvert_exporter": "python",
   "pygments_lexer": "ipython3",
   "version": "3.7.3"
  }
 },
 "nbformat": 4,
 "nbformat_minor": 4
}
